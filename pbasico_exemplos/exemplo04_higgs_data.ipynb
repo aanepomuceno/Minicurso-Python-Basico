{
 "cells": [
  {
   "cell_type": "markdown",
   "id": "82c3f21c",
   "metadata": {},
   "source": [
    "# Exemplo - Plot com Dados do Higgs"
   ]
  },
  {
   "cell_type": "markdown",
   "id": "501ffeb0",
   "metadata": {},
   "source": [
    "Minicurso Python Básico - A Nepomuceno (jun/21)"
   ]
  },
  {
   "cell_type": "code",
   "execution_count": 1,
   "id": "c21d1cf0",
   "metadata": {},
   "outputs": [],
   "source": [
    "import numpy as np, matplotlib.pyplot as plt"
   ]
  },
  {
   "cell_type": "code",
   "execution_count": 2,
   "id": "54168abd",
   "metadata": {},
   "outputs": [],
   "source": [
    "#funcao bkg\n",
    "def bkg(x,lbkg):\n",
    "    return lbkg[0] + lbkg[1]*x + lbkg[2]*x**2 + lbkg[3]*x**3"
   ]
  },
  {
   "cell_type": "code",
   "execution_count": 3,
   "id": "c98e4edf",
   "metadata": {},
   "outputs": [],
   "source": [
    "#funcao sinal\n",
    "def sinal(x,lsig):\n",
    "    return lsig[0]*np.exp(-0.5*((x-lsig[1])/lsig[2])**2)"
   ]
  },
  {
   "cell_type": "code",
   "execution_count": 4,
   "id": "4534f27c",
   "metadata": {},
   "outputs": [],
   "source": [
    "par_bkg = [24415.1,-356.488,1.80183,-0.00307196]\n",
    "par_sig = [200,126.218,2.3875]"
   ]
  },
  {
   "cell_type": "code",
   "execution_count": 5,
   "id": "992e745f",
   "metadata": {},
   "outputs": [
    {
     "data": {
      "text/plain": [
       "array([[ 101., 3635.],\n",
       "       [ 103., 3391.],\n",
       "       [ 105., 3339.],\n",
       "       [ 107., 3148.],\n",
       "       [ 109., 2983.]])"
      ]
     },
     "execution_count": 5,
     "metadata": {},
     "output_type": "execute_result"
    }
   ],
   "source": [
    "data_higgs = np.loadtxt('higgs_data.csv',delimiter=\",\")\n",
    "#rapida inspecao nos dados\n",
    "data_higgs[:5]"
   ]
  },
  {
   "cell_type": "code",
   "execution_count": 6,
   "id": "9b27549e",
   "metadata": {},
   "outputs": [
    {
     "name": "stdout",
     "output_type": "stream",
     "text": [
      "101.0\n",
      "159.0\n"
     ]
    }
   ],
   "source": [
    "data_x = data_higgs[:,0]\n",
    "data_y = data_higgs[:,1]\n",
    "print(data_higgs[:,0].min())\n",
    "print(data_higgs[:,0].max())"
   ]
  },
  {
   "cell_type": "code",
   "execution_count": 7,
   "id": "2f7f6eaf",
   "metadata": {},
   "outputs": [],
   "source": [
    "x = np.linspace(100,160,200)\n",
    "f_total = bkg(x,par_bkg)+sinal(x,par_sig)"
   ]
  },
  {
   "cell_type": "code",
   "execution_count": 8,
   "id": "05ffa553",
   "metadata": {},
   "outputs": [
    {
     "data": {
      "image/png": "[encoded data removed]",
      "text/plain": [
       "<Figure size 432x288 with 1 Axes>"
      ]
     },
     "metadata": {
      "needs_background": "light"
     },
     "output_type": "display_data"
    }
   ],
   "source": [
    "#plt.style.use('bmh')\n",
    "plt.plot(data_x,data_y,\"ko\",label='Data')\n",
    "plt.plot(x,bkg(x,par_bkg),'b--',label='Bkg')\n",
    "plt.plot(x,f_total,'r-',lw=2,label='Sig+Bkg')\n",
    "plt.ylim(200,3900)\n",
    "plt.xlabel('M [GeV]',fontsize=12)\n",
    "plt.ylabel('Events',fontsize=12)\n",
    "ax = plt.gca()\n",
    "ax.tick_params(labelsize=12)  #tamanha de fonte dos eixos\n",
    "plt.legend(frameon=False,fontsize=12)\n",
    "plt.savefig(\"higgs_data.pdf\")"
   ]
  }
 ],
 "metadata": {
  "kernelspec": {
   "display_name": "Python 3",
   "language": "python",
   "name": "python3"
  },
  "language_info": {
   "codemirror_mode": {
    "name": "ipython",
    "version": 3
   },
   "file_extension": ".py",
   "mimetype": "text/x-python",
   "name": "python",
   "nbconvert_exporter": "python",
   "pygments_lexer": "ipython3",
   "version": "3.9.1"
  }
 },
 "nbformat": 4,
 "nbformat_minor": 5
}
