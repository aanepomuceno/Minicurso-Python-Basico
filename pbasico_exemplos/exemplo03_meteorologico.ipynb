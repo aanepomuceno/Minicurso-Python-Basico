{
 "cells": [
  {
   "cell_type": "markdown",
   "id": "6d635221",
   "metadata": {},
   "source": [
    "# Exemplo - Dados do site Alerta RIO"
   ]
  },
  {
   "cell_type": "code",
   "execution_count": 4,
   "id": "5834c55d",
   "metadata": {},
   "outputs": [
    {
     "data": {
      "text/plain": [
       "'/home/asevedo/temp/dados_meteoro_rio/jardim_botanico_201902_Met.txt'"
      ]
     },
     "execution_count": 4,
     "metadata": {},
     "output_type": "execute_result"
    }
   ],
   "source": [
    "#Dados do ALERTA RIO, estação Jardim Botânico\n",
    "#http://alertario.rio.rj.gov.br/\n",
    "import numpy as np\n",
    "import itertools\n",
    "#local dos dados\n",
    "dir_local = \"/home/asevedo/temp/dados_meteoro_rio/\"\n",
    "file_name = dir_local+\"jardim_botanico_201902_Met.txt\"\n",
    "file_name"
   ]
  },
  {
   "cell_type": "code",
   "execution_count": 5,
   "id": "c982eee9",
   "metadata": {},
   "outputs": [],
   "source": [
    "#Vamos examinar o conteudo dos dados\n",
    "#%more /home/asevedo/temp/dados_meteoro_rio/jardim_botanico_201903_Met.txt\n",
    "#%pycat /home/asevedo/temp/dados_meteoro_rio/jardim_botanico_201901_Met.txt"
   ]
  },
  {
   "cell_type": "code",
   "execution_count": 6,
   "id": "4097335c",
   "metadata": {},
   "outputs": [
    {
     "name": "stdout",
     "output_type": "stream",
     "text": [
      "['16/02/2019', 'HBV', '23:00:00', '0.0', 'ND', 'ND', '25.2', 'ND', 'ND']\n",
      "['16/02/2019', '23:00:00', '0.0', 'ND', 'ND', '25.2', 'ND', 'ND']\n"
     ]
    }
   ],
   "source": [
    "l1  = ('16/02/2019  HBV 23:00:00          0.0        ND        ND         25.2       ND       ND').split()\n",
    "print(l1)\n",
    "if 'HBV' in l1: l1.remove('HBV')\n",
    "print(l1)"
   ]
  },
  {
   "cell_type": "code",
   "execution_count": 7,
   "id": "e78ebfed",
   "metadata": {},
   "outputs": [
    {
     "name": "stdout",
     "output_type": "stream",
     "text": [
      "Precipitação Acumulada: 362.0 mm\n",
      "Temperatura média:      27.1 C\n",
      "N linhas: 2632\n"
     ]
    }
   ],
   "source": [
    "#Lendo um unico arquivo\n",
    "f_data = open(file_name)\n",
    "n_data = 0\n",
    "chuva_soma = 0\n",
    "temperatura = 0\n",
    "for line in itertools.islice(f_data, 6, None): #(aquivo,inicio,final)\n",
    "#for line in f_data:\n",
    "    lista_dados = line.split()   #separa o string e guarda em lista \n",
    "    if 'HBV' in lista_dados: lista_dados.remove('HBV')\n",
    "    try:\n",
    "        chuva_soma += float(lista_dados[2])   #chuva_soma = chuva_soma + ...\n",
    "        temperatura += float(lista_dados[5])\n",
    "    except ValueError:\n",
    "        continue\n",
    "    n_data += 1\n",
    "f_data.close()    \n",
    "print('Precipitação Acumulada: {:.1f} mm'.format(chuva_soma))\n",
    "print('Temperatura média: {:9.1f} C'.format(temperatura/n_data))\n",
    "print('N linhas:',n_data)"
   ]
  },
  {
   "cell_type": "code",
   "execution_count": 8,
   "id": "8cce11f0",
   "metadata": {},
   "outputs": [
    {
     "name": "stdout",
     "output_type": "stream",
     "text": [
      "[ 51.  362.  351.4 377.6 131.   63.  103.4 206.4 173.8  90.2 181.4  87.6]\n",
      "--------------------------------------------------------------------------------\n",
      "[28.85609244 27.09836626 26.57427707 26.08940236 24.3115074  23.16631468\n",
      " 21.35496575 20.98256048 22.35114583 24.42345222 23.73704861 25.53971774]\n"
     ]
    },
    {
     "data": {
      "text/plain": [
       "12"
      ]
     },
     "execution_count": 8,
     "metadata": {},
     "output_type": "execute_result"
    }
   ],
   "source": [
    "#Lendo varios arquivos (doze no total)\n",
    "dir_local = \"/home/asevedo/temp/dados_meteoro_rio/\"\n",
    "chuva_data = []\n",
    "temp_data = []\n",
    "for i in range(1,13):\n",
    "    if i < 10: file_name = dir_local+\"jardim_botanico_20190\"+str(i)+\"_Met.txt\"\n",
    "    else: file_name = dir_local+\"jardim_botanico_2019\"+str(i)+\"_Met.txt\"\n",
    "    f_data = open(file_name)\n",
    "    n_data = 0\n",
    "    chuva_soma = 0\n",
    "    temperatura = 0\n",
    "    for line in itertools.islice(f_data, 6, None): #(aquivo,inicio,final)\n",
    "        #print(n_data)\n",
    "        lista_dados = line.split()\n",
    "        if 'HBV' in lista_dados: lista_dados.remove('HBV')\n",
    "        try:\n",
    "            chuva_soma += float(lista_dados[2])\n",
    "            temperatura += float(lista_dados[5])\n",
    "        except ValueError:\n",
    "            continue\n",
    "        n_data += 1\n",
    "    chuva_data.append(chuva_soma)\n",
    "    temp_data.append(temperatura/n_data)\n",
    "f_data.close()    \n",
    "chuva_array = np.array(chuva_data)\n",
    "temp_array = np.array(temp_data)\n",
    "print(chuva_array)\n",
    "print('--'*40)\n",
    "print(temp_array)\n",
    "temp_array.size"
   ]
  },
  {
   "cell_type": "code",
   "execution_count": 9,
   "id": "ee21274d",
   "metadata": {},
   "outputs": [
    {
     "name": "stdout",
     "output_type": "stream",
     "text": [
      "Maior precipitação: 377\n",
      "Menor precipitação: 51\n"
     ]
    }
   ],
   "source": [
    "print('Maior precipitação:',int(chuva_array.max()))\n",
    "print('Menor precipitação:',int(chuva_array.min()))"
   ]
  },
  {
   "cell_type": "code",
   "execution_count": 10,
   "id": "cd815cf1",
   "metadata": {},
   "outputs": [
    {
     "name": "stdout",
     "output_type": "stream",
     "text": [
      "/home/asevedo/temp/dados_meteoro_rio/jardim_botanico_201905_Met.txt\n",
      "/home/asevedo/temp/dados_meteoro_rio/jardim_botanico_201902_Met.txt\n",
      "/home/asevedo/temp/dados_meteoro_rio/jardim_botanico_201907_Met.txt\n",
      "/home/asevedo/temp/dados_meteoro_rio/jardim_botanico_201912_Met.txt\n",
      "/home/asevedo/temp/dados_meteoro_rio/jardim_botanico_201906_Met.txt\n",
      "/home/asevedo/temp/dados_meteoro_rio/jardim_botanico_201910_Met.txt\n",
      "/home/asevedo/temp/dados_meteoro_rio/jardim_botanico_201901_Met.txt\n",
      "/home/asevedo/temp/dados_meteoro_rio/jardim_botanico_201908_Met.txt\n",
      "/home/asevedo/temp/dados_meteoro_rio/jardim_botanico_201903_Met.txt\n",
      "/home/asevedo/temp/dados_meteoro_rio/jardim_botanico_201904_Met.txt\n",
      "/home/asevedo/temp/dados_meteoro_rio/jardim_botanico_201911_Met.txt\n",
      "/home/asevedo/temp/dados_meteoro_rio/jardim_botanico_201909_Met.txt\n",
      "done!\n"
     ]
    }
   ],
   "source": [
    "#Uma forma mais eficiente fazer loops sobre arquivos \n",
    "import os\n",
    "dir_local = \"/home/asevedo/temp/dados_meteoro_rio/\"\n",
    "for file in os.listdir(dir_local):\n",
    "    if file.endswith(\".txt\"):\n",
    "        file_name = os.path.join(dir_local, file)   #file_name = dir_local+file\n",
    "        print(file_name)\n",
    "print('done!')"
   ]
  },
  {
   "cell_type": "code",
   "execution_count": 11,
   "id": "49872421",
   "metadata": {},
   "outputs": [],
   "source": [
    "import matplotlib.pyplot as plt"
   ]
  },
  {
   "cell_type": "code",
   "execution_count": 12,
   "id": "826bd1c8",
   "metadata": {},
   "outputs": [],
   "source": [
    "mes = ['JAN','FEV','MAR','ABR','MAI','JUN','JUL','AGO','SET','OUT','NOV','DEZ']"
   ]
  },
  {
   "cell_type": "code",
   "execution_count": 13,
   "id": "43824806",
   "metadata": {},
   "outputs": [
    {
     "data": {
      "image/png": "[encoded data removed]",
      "text/plain": [
       "<Figure size 432x288 with 2 Axes>"
      ]
     },
     "metadata": {
      "needs_background": "light"
     },
     "output_type": "display_data"
    }
   ],
   "source": [
    "plot1 = plt.bar(mes,chuva_array,width=0.7)\n",
    "plt.ylabel('Precipitação [mm]',fontsize=12)\n",
    "plt.xlabel('Mês',fontsize=12)\n",
    "plt.twinx()\n",
    "plt.ylim(20,30)\n",
    "plt.ylabel('Temperatura '+r'[$^{0}$C]',fontsize=12)\n",
    "plot2 = plt.plot(mes,temp_array,'r-o',lw=2)\n",
    "plots = [plot1] + plot2\n",
    "legs = ['Precipitação','Temperatura Média']\n",
    "plt.legend(plots,legs,frameon=False,fontsize=12)\n",
    "plt.savefig('plot_chuva_Rio19.pdf')"
   ]
  }
 ],
 "metadata": {
  "kernelspec": {
   "display_name": "Python 3",
   "language": "python",
   "name": "python3"
  },
  "language_info": {
   "codemirror_mode": {
    "name": "ipython",
    "version": 3
   },
   "file_extension": ".py",
   "mimetype": "text/x-python",
   "name": "python",
   "nbconvert_exporter": "python",
   "pygments_lexer": "ipython3",
   "version": "3.9.1"
  }
 },
 "nbformat": 4,
 "nbformat_minor": 5
}
