{
 "cells": [
  {
   "cell_type": "code",
   "execution_count": 1,
   "metadata": {},
   "outputs": [],
   "source": [
    "import numpy as np"
   ]
  },
  {
   "cell_type": "code",
   "execution_count": 2,
   "metadata": {},
   "outputs": [],
   "source": [
    "def f(x):\n",
    "    return 1/(x+1)**2"
   ]
  },
  {
   "cell_type": "code",
   "execution_count": 3,
   "metadata": {},
   "outputs": [
    {
     "name": "stdout",
     "output_type": "stream",
     "text": [
      "10000 9.998000299960006e-09\n",
      "20000 2.4997500187487502e-09\n",
      "30000 1.1110370407405762e-09\n",
      "40000 6.249687511718359e-10\n",
      "50000 3.999840004799872e-10\n",
      "60000 2.7776851874999484e-10\n",
      "70000 2.040758018742167e-10\n",
      "80000 1.5624609382324097e-10\n",
      "90000 1.234540466849559e-10\n",
      "Soma com linspace = 1.6449240668982423\n"
     ]
    }
   ],
   "source": [
    "#usando linspace\n",
    "n = 100_000\n",
    "b = np.linspace(0,n-1,n)\n",
    "c = (f(b))\n",
    "soma_com_linspace = sum(c)\n",
    "for j in range(10000,n,10000):\n",
    "    print(j,c[j])\n",
    "print('Soma com linspace =',soma_com_linspace)"
   ]
  },
  {
   "cell_type": "code",
   "execution_count": 4,
   "metadata": {},
   "outputs": [
    {
     "name": "stdout",
     "output_type": "stream",
     "text": [
      "10000 9.998000299960006e-09\n",
      "20000 2.4997500187487502e-09\n",
      "30000 1.1110370407405762e-09\n",
      "40000 6.249687511718359e-10\n",
      "50000 3.999840004799872e-10\n",
      "60000 2.7776851874999484e-10\n",
      "70000 2.040758018742167e-10\n",
      "80000 1.5624609382324097e-10\n",
      "90000 1.234540466849559e-10\n",
      "Soma com arange = 1.6449240668982423\n"
     ]
    }
   ],
   "source": [
    "#usando arange\n",
    "b = np.arange(n)\n",
    "c = (f(b))\n",
    "soma_com_arrange = sum(c)\n",
    "for k in range(10000,n,10000):\n",
    "    print(k,c[k])\n",
    "print('Soma com arange =',soma_com_arrange)"
   ]
  },
  {
   "cell_type": "code",
   "execution_count": 5,
   "metadata": {},
   "outputs": [
    {
     "name": "stdout",
     "output_type": "stream",
     "text": [
      "0 1.0\n",
      "10000 9.998000299960006e-09\n",
      "20000 2.4997500187487502e-09\n",
      "30000 1.1110370407405762e-09\n",
      "40000 6.249687511718359e-10\n",
      "50000 3.999840004799872e-10\n",
      "60000 2.7776851874999484e-10\n",
      "70000 2.040758018742167e-10\n",
      "80000 1.5624609382324097e-10\n",
      "90000 1.234540466849559e-10\n",
      "Soma loop = 1.6449240668982423\n"
     ]
    }
   ],
   "source": [
    "#usando loops\n",
    "a = 0\n",
    "for i in range(n):\n",
    "    a = a + f(i)\n",
    "    if i%10_000 == 0:\n",
    "        print(i,f(i))\n",
    "print('Soma loop =',a)"
   ]
  },
  {
   "cell_type": "code",
   "execution_count": 8,
   "metadata": {},
   "outputs": [
    {
     "data": {
      "text/plain": [
       "True"
      ]
     },
     "execution_count": 8,
     "metadata": {},
     "output_type": "execute_result"
    }
   ],
   "source": [
    "np.isclose(soma_com_arrange,a,atol=1e-14)"
   ]
  },
  {
   "cell_type": "code",
   "execution_count": 7,
   "metadata": {},
   "outputs": [
    {
     "name": "stdout",
     "output_type": "stream",
     "text": [
      "Soma com Numpy = 1.644924066898227\n"
     ]
    }
   ],
   "source": [
    "#usando o metodo sum do Numpy\n",
    "soma_com_numpy = np.sum(c)\n",
    "print('Soma com Numpy =',soma_com_numpy)"
   ]
  }
 ],
 "metadata": {
  "kernelspec": {
   "display_name": "Python 3",
   "language": "python",
   "name": "python3"
  },
  "language_info": {
   "codemirror_mode": {
    "name": "ipython",
    "version": 3
   },
   "file_extension": ".py",
   "mimetype": "text/x-python",
   "name": "python",
   "nbconvert_exporter": "python",
   "pygments_lexer": "ipython3",
   "version": "3.7.4"
  }
 },
 "nbformat": 4,
 "nbformat_minor": 2
}
