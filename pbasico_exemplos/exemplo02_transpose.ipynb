{
 "cells": [
  {
   "cell_type": "markdown",
   "id": "8356108a",
   "metadata": {},
   "source": [
    "Utilizando array com matrizes.\n",
    "Minicurso Python Básico - A Nepomuceno (jun/21)"
   ]
  },
  {
   "cell_type": "code",
   "execution_count": 2,
   "id": "567cd839",
   "metadata": {},
   "outputs": [],
   "source": [
    "import numpy as np"
   ]
  },
  {
   "cell_type": "code",
   "execution_count": 3,
   "id": "bfd0d6ca",
   "metadata": {},
   "outputs": [
    {
     "name": "stdout",
     "output_type": "stream",
     "text": [
      "[[ 0.57735027  0.40824829  0.70710678]\n",
      " [-0.57735027  0.81649658  0.        ]\n",
      " [ 0.57735027  0.40824829 -0.70710678]]\n"
     ]
    }
   ],
   "source": [
    "#vamos criar a matriz M\n",
    "a,b,= np.sqrt(2),np.sqrt(3)\n",
    "M = 1/(np.sqrt(6.))*np.array([ [a,1,b],[-a,2,0],[a,1,-b]])\n",
    "print(M)"
   ]
  },
  {
   "cell_type": "code",
   "execution_count": 4,
   "id": "0ec8c3aa",
   "metadata": {},
   "outputs": [
    {
     "name": "stdout",
     "output_type": "stream",
     "text": [
      "[[ 1.00000000e+00 -4.58633852e-19  4.26642159e-17]\n",
      " [-4.58633852e-19  1.00000000e+00 -4.58633852e-19]\n",
      " [ 4.26642159e-17 -4.58633852e-19  1.00000000e+00]]\n"
     ]
    }
   ],
   "source": [
    "#transposta de M é M.T\n",
    "r = np.dot(M,M.T)\n",
    "print(r)"
   ]
  },
  {
   "cell_type": "code",
   "execution_count": 5,
   "id": "3bf5a3ad",
   "metadata": {},
   "outputs": [
    {
     "data": {
      "text/plain": [
       "array([1., 1., 1.])"
      ]
     },
     "execution_count": 5,
     "metadata": {},
     "output_type": "execute_result"
    }
   ],
   "source": [
    "r.diagonal()"
   ]
  },
  {
   "cell_type": "code",
   "execution_count": 6,
   "id": "d67eb357",
   "metadata": {},
   "outputs": [
    {
     "data": {
      "text/plain": [
       "True"
      ]
     },
     "execution_count": 6,
     "metadata": {},
     "output_type": "execute_result"
    }
   ],
   "source": [
    "#vamos verificar se r é a matriz I (np.eye)\n",
    "s,_ = r.shape\n",
    "(np.isclose(r,np.eye(s))).all()"
   ]
  }
 ],
 "metadata": {
  "kernelspec": {
   "display_name": "Python 3",
   "language": "python",
   "name": "python3"
  },
  "language_info": {
   "codemirror_mode": {
    "name": "ipython",
    "version": 3
   },
   "file_extension": ".py",
   "mimetype": "text/x-python",
   "name": "python",
   "nbconvert_exporter": "python",
   "pygments_lexer": "ipython3",
   "version": "3.9.1"
  }
 },
 "nbformat": 4,
 "nbformat_minor": 5
}
