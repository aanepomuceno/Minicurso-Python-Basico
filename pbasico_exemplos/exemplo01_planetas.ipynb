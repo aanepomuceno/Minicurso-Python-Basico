{
 "cells": [
  {
   "cell_type": "markdown",
   "id": "d58fc2fe",
   "metadata": {},
   "source": [
    "# Exemplo de dicionário de tuplas\n"
   ]
  },
  {
   "cell_type": "markdown",
   "id": "8acb0921",
   "metadata": {},
   "source": [
    "Minicurso Python Basico (junho/21) - Andre Nepomuceno (UFF)"
   ]
  },
  {
   "cell_type": "code",
   "execution_count": 1,
   "id": "4295371d",
   "metadata": {},
   "outputs": [],
   "source": [
    "#dicionario com informações da massa (kg) e raio (km) de alguns astros\n",
    "import math as mt\n",
    "astros = {'Sol': (1.988e30, 6.955e5),\n",
    "        'Mercurio': (3.301e23, 2440.),\n",
    "        'Venus': (4.867e+24, 6052.),\n",
    "        'Terra': (5.972e24, 6371.),\n",
    "        'Marte': (6.417e23, 3390.),\n",
    "        'Jupiter': (1.899e27, 69911.),\n",
    "        'Saturno': (5.685e26, 58232.),\n",
    "        'Uranio': (8.682e25, 25362.),\n",
    "        'Netuno': (1.024e26, 24622.) }\n"
   ]
  },
  {
   "cell_type": "code",
   "execution_count": 2,
   "id": "312931d2",
   "metadata": {},
   "outputs": [
    {
     "name": "stdout",
     "output_type": "stream",
     "text": [
      "['Mercurio', 'Venus', 'Terra', 'Marte', 'Jupiter', 'Saturno', 'Uranio', 'Netuno']\n"
     ]
    }
   ],
   "source": [
    "#vamos utilizar o método keys() e o construtor list para obter \n",
    "#uma lista de planetas\n",
    "planetas = list(astros.keys())\n",
    "#print(planetas)\n",
    "#como o Sol não é um planeta, será removido da lista\n",
    "planetas.remove('Sol')\n",
    "print(planetas)"
   ]
  },
  {
   "cell_type": "code",
   "execution_count": 3,
   "id": "fe40df5a",
   "metadata": {},
   "outputs": [],
   "source": [
    "#Vamos criar uma função para calcular a densidade dos planetas\n",
    "def calc_density(m, r):\n",
    "    \"\"\" Retorna a densidade de uma esfera \"\"\"\n",
    "    return m / (4/3 * mt.pi * r**3)"
   ]
  },
  {
   "cell_type": "code",
   "execution_count": 4,
   "id": "09930159",
   "metadata": {},
   "outputs": [
    {
     "name": "stdout",
     "output_type": "stream",
     "text": [
      "{'Mercurio': 5.424846275125449, 'Venus': 5.241746077656208, 'Terra': 5.513258738589093, 'Marte': 3.93227910323888, 'Jupiter': 1.326782738207952, 'Saturno': 0.6873164536628875, 'Uranio': 1.2705175766457204, 'Netuno': 1.6377264623937882}\n"
     ]
    }
   ],
   "source": [
    "#Como os valores do dicionário astros são tuplas, cada entrada pode ser \n",
    "#\"descompactada\" (unpacking) #usando a sintaxe m,r =  astro[chave]\n",
    "densidade = {}   #dicionario vazio\n",
    "for p in planetas:       #loop sobre as chaves\n",
    "    m, r = astros[p]\n",
    "    densidade[p] = calc_density(m*1.e3, r*1.e5)  #densidade em g/cm3\n",
    "#Note que em cada iteração, adicionamos um par (chave,valor) ao dicinário densidade. \n",
    "print(densidade)"
   ]
  },
  {
   "cell_type": "code",
   "execution_count": 7,
   "id": "419d078a",
   "metadata": {},
   "outputs": [
    {
     "name": "stdout",
     "output_type": "stream",
     "text": [
      "A densidade de Mercurio é  5.42 g/cm3\n",
      "A densidade de Venus    é  5.24 g/cm3\n",
      "A densidade de Terra    é  5.51 g/cm3\n",
      "A densidade de Marte    é  3.93 g/cm3\n",
      "A densidade de Jupiter  é  1.33 g/cm3\n",
      "A densidade de Saturno  é  0.69 g/cm3\n",
      "A densidade de Uranio   é  1.27 g/cm3\n",
      "A densidade de Netuno   é  1.64 g/cm3\n"
     ]
    }
   ],
   "source": [
    "for p,q in densidade.items():\n",
    "    #print(\"A densidade de {} é {:.2f} g/cm3\".format(p,q))\n",
    "    print(\"A densidade de {:8} é {:5.2f} g/cm3\".format(p,q))\n"
   ]
  },
  {
   "cell_type": "code",
   "execution_count": 8,
   "id": "ead16e27",
   "metadata": {},
   "outputs": [
    {
     "name": "stdout",
     "output_type": "stream",
     "text": [
      "A densidade de Mercurio é  5.42 g/cm3\n",
      "A densidade de Venus    é  5.24 g/cm3\n",
      "A densidade de Terra    é  5.51 g/cm3\n",
      "A densidade de Marte    é  3.93 g/cm3\n",
      "A densidade de Jupiter  é  1.33 g/cm3\n",
      "A densidade de Saturno  é  0.69 g/cm3\n",
      "A densidade de Uranio   é  1.27 g/cm3\n",
      "A densidade de Netuno   é  1.64 g/cm3\n"
     ]
    }
   ],
   "source": [
    "#using f-string (since Python 3.6)\n",
    "for p,q in densidade.items():\n",
    "    print(f\"A densidade de {p:8} é {q:5.2f} g/cm3\")\n"
   ]
  }
 ],
 "metadata": {
  "kernelspec": {
   "display_name": "Python 3",
   "language": "python",
   "name": "python3"
  },
  "language_info": {
   "codemirror_mode": {
    "name": "ipython",
    "version": 3
   },
   "file_extension": ".py",
   "mimetype": "text/x-python",
   "name": "python",
   "nbconvert_exporter": "python",
   "pygments_lexer": "ipython3",
   "version": "3.9.1"
  }
 },
 "nbformat": 4,
 "nbformat_minor": 5
}
