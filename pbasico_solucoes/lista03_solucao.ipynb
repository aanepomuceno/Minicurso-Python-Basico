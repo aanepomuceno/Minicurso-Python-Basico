{
 "cells": [
  {
   "cell_type": "markdown",
   "id": "73f8987b",
   "metadata": {},
   "source": [
    "# Lista 03 - Solução"
   ]
  },
  {
   "cell_type": "code",
   "execution_count": 1,
   "id": "6b68fd77",
   "metadata": {},
   "outputs": [],
   "source": [
    "import numpy as np"
   ]
  },
  {
   "cell_type": "markdown",
   "id": "ea3104d3",
   "metadata": {},
   "source": [
    "Questão 3.1"
   ]
  },
  {
   "cell_type": "code",
   "execution_count": 2,
   "id": "ef56c733",
   "metadata": {},
   "outputs": [
    {
     "name": "stdout",
     "output_type": "stream",
     "text": [
      "1  0.250\n",
      "2  0.190\n",
      "3  0.200\n",
      "4  0.116\n",
      "5  0.090\n",
      "6  0.062\n",
      "7  0.036\n",
      "8  0.034\n",
      "9  0.022\n"
     ]
    }
   ],
   "source": [
    "from proteinas import naa\n",
    "tam = len(naa)\n",
    "lista_strings = []\n",
    "for n in naa:\n",
    "    s = str(n)[0]      #transforma as entradas da lista em strings e toma o primeiro caracter do string\n",
    "    lista_strings.append(s)\n",
    "for i in range(1,10):\n",
    "    print('{}  {:.3f}'.format(i,lista_strings.count(str(i))/tam))"
   ]
  },
  {
   "cell_type": "markdown",
   "id": "92dda144",
   "metadata": {},
   "source": [
    "A distribuição não segue exatamente a lei de Benford, mas possui suas características gerais. "
   ]
  },
  {
   "cell_type": "markdown",
   "id": "034cbd30",
   "metadata": {},
   "source": [
    "Questão 3.2"
   ]
  },
  {
   "cell_type": "code",
   "execution_count": 24,
   "id": "fee078d6",
   "metadata": {},
   "outputs": [],
   "source": [
    "#vamos criar um dicionario de tuplas que mapeia as cores para os numeros\n",
    "codigo_cores = {'preto':('0',0.2),'marrom':('1',0.01),'vermelho':('2',0.02),'laranja':('3',0.03),\n",
    "               'amarelo':('4',0.04),'verde':('5',0.2),'azul':('6',0.2),'violeta':('7',0.2),\n",
    "                'cinza':('8',0.2),'branco':('9',0.2),'dourado':(0.1,0.05),'prateado':(0.01,0.1)}"
   ]
  },
  {
   "cell_type": "code",
   "execution_count": 25,
   "id": "751f24a1",
   "metadata": {},
   "outputs": [],
   "source": [
    "def valor_resistencia(c1,c2,c3,c4):\n",
    "    R = float(codigo_cores[c1][0] + codigo_cores[c2][0])*10**float(codigo_cores[c3][0])\n",
    "    sig_R = R*codigo_cores[c4][1]\n",
    "    return round(R), round(sig_R)\n",
    "#O indices [0] e [1] retornam a primeira e segunda entradas das tuplas, respectivamente."
   ]
  },
  {
   "cell_type": "code",
   "execution_count": 27,
   "id": "c665f784",
   "metadata": {},
   "outputs": [
    {
     "name": "stdout",
     "output_type": "stream",
     "text": [
      "(5700, 570)\n"
     ]
    }
   ],
   "source": [
    "#Teste a função valor_resistencia\n",
    "R = valor_resistencia('verde','violeta','vermelho','prateado')\n",
    "print(R)"
   ]
  },
  {
   "cell_type": "markdown",
   "id": "9cebf3b7",
   "metadata": {},
   "source": [
    "Questão 3.4"
   ]
  },
  {
   "cell_type": "code",
   "execution_count": 3,
   "id": "3cd1c1c5",
   "metadata": {},
   "outputs": [],
   "source": [
    "st = 20.\n",
    "tau = 5\n",
    "t = np.arange(0,20.5,0.5)"
   ]
  },
  {
   "cell_type": "code",
   "execution_count": 4,
   "id": "fe7ef986",
   "metadata": {},
   "outputs": [
    {
     "name": "stdout",
     "output_type": "stream",
     "text": [
      "y, v =                  -0.0, -0.0\n",
      "y, v =  -0.48374180359595176, -1.9032516392808096\n",
      "y, v =    -1.873075307798182, -3.6253849384403636\n",
      "y, v =    -4.081822068171785, -5.183635586365643\n",
      "y, v =    -7.032004603563933, -6.5935990792872134\n",
      "y, v =   -10.653065971263342, -7.8693868057473315\n",
      "y, v =   -14.881163609402641, -9.023767278119472\n",
      "y, v =    -19.65853037914095, -10.06829392417181\n",
      "y, v =   -24.932896411722155, -11.013420717655569\n",
      "y, v =   -30.656965974059915, -11.868606805188017\n",
      "y, v =   -36.787944117144235, -12.642411176571153\n",
      "y, v =    -43.28710836980795, -13.34257832603841\n",
      "y, v =    -50.11942119122022, -13.976115761755956\n",
      "y, v =   -57.253179303401254, -14.54936413931975\n",
      "y, v =    -64.65969639416065, -15.068060721167871\n",
      "y, v =    -72.31301601484299, -15.537396797031404\n",
      "y, v =    -80.18965179946554, -15.962069640106893\n",
      "y, v =    -88.26835240527346, -16.346329518945307\n",
      "y, v =    -96.52988882215865, -16.69402223556827\n",
      "y, v =   -104.95686192226351, -17.008627615547297\n",
      "y, v =   -113.53352832366127, -17.293294335267746\n",
      "y, v =   -122.24564282529819, -17.550871434940362\n",
      "y, v =   -131.08031583623338, -17.783936832753323\n",
      "y, v =    -140.0258843722804, -17.994823125543924\n",
      "y, v =   -149.07179532894125, -18.18564093421175\n",
      "y, v =   -158.20849986238989, -18.358300027522024\n",
      "y, v =    -167.4273578214334, -18.514528435713324\n",
      "y, v =     -176.720551273975, -18.655889745205005\n",
      "y, v =    -186.0810062625218, -18.78379874749564\n",
      "y, v =   -195.50232200564074, -18.899535598871854\n",
      "y, v =   -204.97870683678642, -19.00425863264272\n",
      "y, v =   -214.50492023935578, -19.099015952128845\n",
      "y, v =    -224.0762203978366, -19.18475592043268\n",
      "y, v =   -233.68831674012398, -19.2623366519752\n",
      "y, v =    -243.3373269960326, -19.33253460079348\n",
      "y, v =   -253.01973834223185, -19.39605233155363\n",
      "y, v =    -262.7323722447293, -19.45352555105415\n",
      "y, v =    -272.4723526470339, -19.505529470593213\n",
      "y, v =   -282.23707718561656, -19.55258456287669\n",
      "y, v =   -292.02419114458047, -19.595161771083912\n",
      "y, v =    -301.8315638888734, -19.633687222225316\n"
     ]
    }
   ],
   "source": [
    "#vetorização\n",
    "y = -st*( t+tau*(np.exp(-t/tau)-1))\n",
    "v = -st*( 1 - np.exp(-t/tau))\n",
    "for i in range(len(t)):\n",
    "    print('y, v = {:21}, {}'.format(y[i],v[i]))"
   ]
  }
 ],
 "metadata": {
  "kernelspec": {
   "display_name": "Python 3",
   "language": "python",
   "name": "python3"
  },
  "language_info": {
   "codemirror_mode": {
    "name": "ipython",
    "version": 3
   },
   "file_extension": ".py",
   "mimetype": "text/x-python",
   "name": "python",
   "nbconvert_exporter": "python",
   "pygments_lexer": "ipython3",
   "version": "3.9.1"
  }
 },
 "nbformat": 4,
 "nbformat_minor": 5
}
