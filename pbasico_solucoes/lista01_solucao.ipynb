{
 "cells": [
  {
   "cell_type": "markdown",
   "id": "23e9f8fc",
   "metadata": {},
   "source": [
    "# Lista 01 - Solução "
   ]
  },
  {
   "cell_type": "markdown",
   "id": "f5f30bb4",
   "metadata": {},
   "source": [
    "Questão 1.4"
   ]
  },
  {
   "cell_type": "code",
   "execution_count": 1,
   "id": "083805e4",
   "metadata": {},
   "outputs": [],
   "source": [
    "import math as mt"
   ]
  },
  {
   "cell_type": "code",
   "execution_count": 2,
   "id": "b296c782",
   "metadata": {},
   "outputs": [
    {
     "name": "stdout",
     "output_type": "stream",
     "text": [
      "A área do círculo de raio 1.2 é 4.52\n"
     ]
    }
   ],
   "source": [
    "raio = 1.2\n",
    "area = mt.pi*raio**2\n",
    "print(\"A área do círculo de raio\",raio,\"é {:.2f}\".format(area))"
   ]
  },
  {
   "cell_type": "markdown",
   "id": "57b4babd",
   "metadata": {},
   "source": [
    "Questão 1.5"
   ]
  },
  {
   "cell_type": "code",
   "execution_count": 3,
   "id": "ff6c2462",
   "metadata": {},
   "outputs": [
    {
     "name": "stdout",
     "output_type": "stream",
     "text": [
      "True\n",
      "False\n"
     ]
    }
   ],
   "source": [
    "a = False\n",
    "b = True\n",
    "c = True\n",
    "print( (a and b) or c)\n",
    "print( a and (b or c))"
   ]
  },
  {
   "cell_type": "markdown",
   "id": "6c8dc06f",
   "metadata": {},
   "source": [
    "Questão 1.6"
   ]
  },
  {
   "cell_type": "code",
   "execution_count": 4,
   "id": "0b5b4a17",
   "metadata": {},
   "outputs": [
    {
     "name": "stdout",
     "output_type": "stream",
     "text": [
      "A frase/palavra tem 3 vogais\n"
     ]
    }
   ],
   "source": [
    "s = \"Let the game begin!\"\n",
    "s1 = s.lower() #todas letras minusculas\n",
    "n_vog = (\"a\" in s1) + (\"e\" in s1) + (\"i\" in s1) + (\"o\" in s1) + (\"u\" in s1)\n",
    "if n_vog == 0: print(\"Não há vogal\")\n",
    "else: print(\"A frase/palavra tem\",n_vog,\"vogais\")"
   ]
  },
  {
   "cell_type": "markdown",
   "id": "0909fa95",
   "metadata": {},
   "source": [
    "Questão 1.7"
   ]
  },
  {
   "cell_type": "code",
   "execution_count": 7,
   "id": "44e63d5e",
   "metadata": {},
   "outputs": [
    {
     "name": "stdout",
     "output_type": "stream",
     "text": [
      "As raízes são complexas\n",
      "x1 = -1.00+2.00j\n",
      "x2 = -1.00-2.00j\n"
     ]
    }
   ],
   "source": [
    "import cmath as ct  #módulo para números complexos\n",
    "a,b,c= 1,2,5\n",
    "delta = b**2 - 4*a*c\n",
    "test_a = mt.isclose(a,0.0,abs_tol=1e-10)\n",
    "if test_a == True:\n",
    "    x = -c/b\n",
    "    print('x = {:.2f}'.format(x))\n",
    "if delta > 0 and test_a == False:\n",
    "    x1 = (-b + mt.sqrt(delta))/(2*a)\n",
    "    x2 = (-b - mt.sqrt(delta))/(2*a)\n",
    "    print('x1 = {:5.2f}'.format(x1))\n",
    "    print('x2 = {:5.2f}'.format(x2))\n",
    "elif mt.isclose(delta,0.0,abs_tol=1e-10) == True:\n",
    "    x = -b/(2*a)\n",
    "    print('x = {:.2f}'.format(x))\n",
    "elif delta < 0:\n",
    "    x1c = (-b + ct.sqrt(delta))/(2*a)\n",
    "    x2c = (-b - ct.sqrt(delta))/(2*a)\n",
    "    print('As raízes são complexas')\n",
    "    print('x1 = {:6.2f}'.format(x1c))\n",
    "    print('x2 = {:6.2f}'.format(x2c))        "
   ]
  }
 ],
 "metadata": {
  "kernelspec": {
   "display_name": "Python 3",
   "language": "python",
   "name": "python3"
  },
  "language_info": {
   "codemirror_mode": {
    "name": "ipython",
    "version": 3
   },
   "file_extension": ".py",
   "mimetype": "text/x-python",
   "name": "python",
   "nbconvert_exporter": "python",
   "pygments_lexer": "ipython3",
   "version": "3.9.1"
  }
 },
 "nbformat": 4,
 "nbformat_minor": 5
}
