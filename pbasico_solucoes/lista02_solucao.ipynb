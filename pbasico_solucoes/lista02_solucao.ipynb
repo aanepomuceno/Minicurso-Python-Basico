{
 "cells": [
  {
   "cell_type": "markdown",
   "id": "a4b442e0",
   "metadata": {},
   "source": [
    "# Lista 02 - Solução "
   ]
  },
  {
   "cell_type": "markdown",
   "id": "efdee5a6",
   "metadata": {},
   "source": [
    "Questão 2.1"
   ]
  },
  {
   "cell_type": "code",
   "execution_count": 1,
   "id": "47d7a9b2",
   "metadata": {},
   "outputs": [],
   "source": [
    "import math as mt"
   ]
  },
  {
   "cell_type": "code",
   "execution_count": 2,
   "id": "9ebdf8db",
   "metadata": {},
   "outputs": [
    {
     "name": "stdout",
     "output_type": "stream",
     "text": [
      "2 = 1**2 + 1**2\n",
      "5 = 1**2 + 2**2\n",
      "8 = 2**2 + 2**2\n",
      "10 = 1**2 + 3**2\n",
      "13 = 2**2 + 3**2\n",
      "17 = 1**2 + 4**2\n",
      "18 = 3**2 + 3**2\n",
      "20 = 2**2 + 4**2\n",
      "25 = 3**2 + 4**2\n",
      "26 = 1**2 + 5**2\n",
      "29 = 2**2 + 5**2\n",
      "32 = 4**2 + 4**2\n",
      "34 = 3**2 + 5**2\n",
      "37 = 1**2 + 6**2\n",
      "40 = 2**2 + 6**2\n",
      "41 = 4**2 + 5**2\n",
      "45 = 3**2 + 6**2\n",
      "50 = 1**2 + 7**2\n",
      "50 = 5**2 + 5**2\n",
      "52 = 4**2 + 6**2\n",
      "53 = 2**2 + 7**2\n",
      "58 = 3**2 + 7**2\n",
      "61 = 5**2 + 6**2\n",
      "65 = 1**2 + 8**2\n",
      "65 = 4**2 + 7**2\n",
      "68 = 2**2 + 8**2\n",
      "72 = 6**2 + 6**2\n",
      "73 = 3**2 + 8**2\n",
      "74 = 5**2 + 7**2\n",
      "80 = 4**2 + 8**2\n",
      "82 = 1**2 + 9**2\n",
      "85 = 2**2 + 9**2\n",
      "85 = 6**2 + 7**2\n",
      "89 = 5**2 + 8**2\n",
      "90 = 3**2 + 9**2\n",
      "97 = 4**2 + 9**2\n",
      "98 = 7**2 + 7**2\n",
      "100 = 6**2 + 8**2\n"
     ]
    }
   ],
   "source": [
    "for i in range(101):\n",
    "    test = int(mt.sqrt(i))\n",
    "    for j in range(1,test+1):\n",
    "        for k in range(j,test+1):\n",
    "            num = j**2 + k**2\n",
    "            if num > i:\n",
    "                break\n",
    "            if num == i:\n",
    "                print('{} = {}**2 + {}**2'.format(i,j,k))"
   ]
  },
  {
   "cell_type": "markdown",
   "id": "7f1fbf46",
   "metadata": {},
   "source": [
    "Questão 2.2"
   ]
  },
  {
   "cell_type": "code",
   "execution_count": 3,
   "id": "2ddb7df4",
   "metadata": {},
   "outputs": [
    {
     "name": "stdout",
     "output_type": "stream",
     "text": [
      "['AGT', 'CTT', 'ATA', 'TCT']\n"
     ]
    }
   ],
   "source": [
    "dna = 'AGTCTTATATCT'\n",
    "j = 0\n",
    "#tamanho da sequencia\n",
    "dna_length = len(dna)\n",
    "lista_codon = []\n",
    "for i in range(j,dna_length,3):\n",
    "    lista_codon.append(dna[i:i+3])\n",
    "if len(lista_codon[-1]) < 3: lista_codon.pop()  #retira o último elemento da lista\n",
    "print(lista_codon)"
   ]
  },
  {
   "cell_type": "markdown",
   "id": "c37575dc",
   "metadata": {},
   "source": [
    "Questão 2.3"
   ]
  },
  {
   "cell_type": "code",
   "execution_count": 4,
   "id": "11dbdb46",
   "metadata": {},
   "outputs": [
    {
     "name": "stdout",
     "output_type": "stream",
     "text": [
      "1\n",
      "1\n",
      "2\n",
      "5\n",
      "14\n",
      "42\n",
      "132\n",
      "429\n",
      "1430\n",
      "4862\n",
      "16796\n",
      "58786\n",
      "208012\n",
      "742900\n",
      "2674440\n",
      "9694845\n",
      "35357670\n",
      "129644790\n",
      "477638700\n"
     ]
    }
   ],
   "source": [
    "print(1)\n",
    "i = 1\n",
    "C = 1\n",
    "while C < 1000_000_000:\n",
    "    print(int(C))       #o print é colocado aqui para ele não imprimir o último número, que é > 1bilhao\n",
    "    C = (4*i+2)/(i+2)*C\n",
    "    i += 1    "
   ]
  },
  {
   "cell_type": "markdown",
   "id": "b565fb55",
   "metadata": {},
   "source": [
    "Questão 2.4"
   ]
  },
  {
   "cell_type": "code",
   "execution_count": 5,
   "id": "3551603c",
   "metadata": {},
   "outputs": [
    {
     "name": "stdout",
     "output_type": "stream",
     "text": [
      "13!! = 135135\n"
     ]
    }
   ],
   "source": [
    "n = 13\n",
    "double_fac = 1\n",
    "nf = int((n+1)/2 +1)\n",
    "for i in range(1,nf):\n",
    "    double_fac = (2*i-1)*double_fac\n",
    "print('{}!! = {}'.format(n,double_fac))"
   ]
  },
  {
   "cell_type": "markdown",
   "id": "3f1cd91a",
   "metadata": {},
   "source": [
    "Questão 2.5"
   ]
  },
  {
   "cell_type": "code",
   "execution_count": 6,
   "id": "0a7065d3",
   "metadata": {},
   "outputs": [],
   "source": [
    "#item a)\n",
    "a1 = 15.8\n",
    "a2 = 18.3\n",
    "a3 = 0.714\n",
    "a4 = 23.2"
   ]
  },
  {
   "cell_type": "code",
   "execution_count": 7,
   "id": "f7c6dbdf",
   "metadata": {},
   "outputs": [],
   "source": [
    "#função para calcular a5\n",
    "def a5(A,Z):\n",
    "    if A%2 != 0: return 0.0\n",
    "    if A%2 == 0 and Z%2 == 0: return 12.0\n",
    "    if A%2 == 0 and Z%2 != 0: return -12.0"
   ]
  },
  {
   "cell_type": "code",
   "execution_count": 8,
   "id": "2c3f83b8",
   "metadata": {},
   "outputs": [],
   "source": [
    "#função para retornar a energia de ligação\n",
    "def eligacao(A,Z):\n",
    "    B = a1*A - a2*A**(2/3.) - a3*Z**2/A**(1/3.) - a4*(A-2*Z)**2/A + a5(A,Z)/A**(1/2.)\n",
    "    return B"
   ]
  },
  {
   "cell_type": "code",
   "execution_count": 9,
   "id": "1355507c",
   "metadata": {},
   "outputs": [
    {
     "name": "stdout",
     "output_type": "stream",
     "text": [
      "B = 497.6 MeV\n"
     ]
    }
   ],
   "source": [
    "#chame a funcao eligacao\n",
    "B = eligacao(58,28)\n",
    "print('B = {:.1f} MeV'.format(B))"
   ]
  },
  {
   "cell_type": "code",
   "execution_count": 10,
   "id": "1fdc0f31",
   "metadata": {},
   "outputs": [
    {
     "name": "stdout",
     "output_type": "stream",
     "text": [
      "B/A = 8.67\n"
     ]
    }
   ],
   "source": [
    "#item b)\n",
    "Z = 26\n",
    "A = 56\n",
    "print('B/A = {:.2f}'.format(eligacao(A,Z)/A))"
   ]
  },
  {
   "cell_type": "code",
   "execution_count": 11,
   "id": "0c2ac278",
   "metadata": {},
   "outputs": [
    {
     "name": "stdout",
     "output_type": "stream",
     "text": [
      "O isótopo mais estável tem A = 58 e B/A = 8.70\n"
     ]
    }
   ],
   "source": [
    "#item c)\n",
    "Z = 26\n",
    "r1 = 0\n",
    "for Ai in range(Z,3*Z+1):\n",
    "    r = eligacao(Ai,Z)/Ai\n",
    "    if r > r1: \n",
    "        r1 = r\n",
    "        Ar = Ai\n",
    "print('O isótopo mais estável tem A = {} e B/A = {:.2f}'.format(Ar,r1))        "
   ]
  },
  {
   "cell_type": "markdown",
   "id": "bb9401e1",
   "metadata": {},
   "source": [
    "A figura abaixo ilustra os resultados acima. Note que os resultados são aproximados."
   ]
  },
  {
   "cell_type": "markdown",
   "id": "4d8e7ca7",
   "metadata": {},
   "source": [
    "![title](binding_energy.jpg)"
   ]
  },
  {
   "cell_type": "markdown",
   "id": "bb0ad758",
   "metadata": {},
   "source": [
    "Questão 2.6"
   ]
  },
  {
   "cell_type": "markdown",
   "id": "11a38eab",
   "metadata": {},
   "source": [
    "Para utilizar o resultado de uma função em outra parte do código, devemos usar return. \n",
    "No caso em questão, o correto seria return area."
   ]
  },
  {
   "cell_type": "markdown",
   "id": "36fe3057",
   "metadata": {},
   "source": [
    "Questão 2.7"
   ]
  },
  {
   "cell_type": "code",
   "execution_count": 12,
   "id": "0428394e",
   "metadata": {},
   "outputs": [
    {
     "name": "stdout",
     "output_type": "stream",
     "text": [
      "pi = 3.142593654340044\n"
     ]
    }
   ],
   "source": [
    "def calc_pi(m):\n",
    "    pi = 0\n",
    "    for j in range(1,m):\n",
    "        p = 4*(-1)**(j+1)*(1/(2*j-1))\n",
    "        pi+=p\n",
    "    return pi \n",
    "\n",
    "c = calc_pi(1000)\n",
    "print('pi = {}'.format(c))"
   ]
  },
  {
   "cell_type": "markdown",
   "id": "2b57047f",
   "metadata": {},
   "source": [
    "Questão 2.8"
   ]
  },
  {
   "cell_type": "code",
   "execution_count": 13,
   "id": "b7a22bbe",
   "metadata": {},
   "outputs": [],
   "source": [
    "def resistencia(V,I,sig_V,sig_I):\n",
    "    R = V/I\n",
    "    sig_R = mt.sqrt( (1/I**2)*sig_V**2 + (V**2/I**4)*sig_I**2)\n",
    "    return R, sig_R"
   ]
  },
  {
   "cell_type": "code",
   "execution_count": 14,
   "id": "ba427ce0",
   "metadata": {},
   "outputs": [
    {
     "name": "stdout",
     "output_type": "stream",
     "text": [
      "R = (29.7 +/- 0.5) ohm\n"
     ]
    }
   ],
   "source": [
    "#Teste a função (V em volts e I em ampere)\n",
    "R,sig_R = resistencia(5.9,198.5e-3,0.1,0.1e-3)\n",
    "print('R = ({} +/- {}) ohm'.format(round(R,1),round(sig_R,1)))"
   ]
  },
  {
   "cell_type": "markdown",
   "id": "f2819109",
   "metadata": {},
   "source": [
    "Questão 2.9"
   ]
  },
  {
   "cell_type": "code",
   "execution_count": 15,
   "id": "0fa6b888",
   "metadata": {},
   "outputs": [],
   "source": [
    "#funcao para calcular o duplo fatorial\n",
    "def double_factorial(n):\n",
    "    double_fac = 1\n",
    "    if n%2 != 0:\n",
    "        nf = int((n+1)/2 +1)\n",
    "        for i in range(1,nf):\n",
    "            double_fac = (2*i-1)*double_fac        \n",
    "    if n%2 == 0:\n",
    "        nf = int(n/2 +1)\n",
    "        for i in range(1,nf):\n",
    "            double_fac = (2*i)*double_fac  \n",
    "    return double_fac "
   ]
  },
  {
   "cell_type": "code",
   "execution_count": 16,
   "id": "e1369a91",
   "metadata": {},
   "outputs": [],
   "source": [
    "#a funçao integral vai usar o resultado de função double_factorial(n)\n",
    "def integral(n,m):\n",
    "    r = double_factorial(m-1)*double_factorial(n-1)/double_factorial(m+n)\n",
    "    if m%2 == 0 and n%2 == 0:\n",
    "        return r*mt.pi/2.\n",
    "    else:\n",
    "        return r"
   ]
  },
  {
   "cell_type": "code",
   "execution_count": 17,
   "id": "79a6725e",
   "metadata": {},
   "outputs": [
    {
     "name": "stdout",
     "output_type": "stream",
     "text": [
      "Integral =  0.13333333333333333\n"
     ]
    }
   ],
   "source": [
    "#teste a função integral\n",
    "I = integral(2,3)\n",
    "print('Integral = ',I)"
   ]
  }
 ],
 "metadata": {
  "kernelspec": {
   "display_name": "Python 3",
   "language": "python",
   "name": "python3"
  },
  "language_info": {
   "codemirror_mode": {
    "name": "ipython",
    "version": 3
   },
   "file_extension": ".py",
   "mimetype": "text/x-python",
   "name": "python",
   "nbconvert_exporter": "python",
   "pygments_lexer": "ipython3",
   "version": "3.9.1"
  }
 },
 "nbformat": 4,
 "nbformat_minor": 5
}
